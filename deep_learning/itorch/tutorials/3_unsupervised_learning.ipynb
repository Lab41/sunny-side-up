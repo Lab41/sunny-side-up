{
 "cells": [
  {
   "cell_type": "code",
   "execution_count": 1,
   "metadata": {
    "collapsed": true
   },
   "outputs": [],
   "source": [
    "----------------------------------------------------------------------\n",
    "-- \n",
    "-- \n",
    "-- \n",
    "-- CONFIGURATION: DEFINE THE PARAMETERS\n",
    "-- \n",
    "-- \n",
    "-- \n",
    "----------------------------------------------------------------------"
   ]
  },
  {
   "cell_type": "code",
   "execution_count": 2,
   "metadata": {
    "collapsed": true
   },
   "outputs": [],
   "source": [
    "params = {\n",
    "        subdirectory = 'outputs',   -- subdirectory to save experiments in\n",
    "        seed = 1,                   -- initial random seed\n",
    "        threads = 2,                -- threads\n",
    "        model =  'conv-psd',        -- auto-encoder class: linear | linear-psd | conv | conv-psd\n",
    "        inputsize = 25,             -- size of each input patch\n",
    "        nfiltersin = 1,             -- number of input convolutional filters\n",
    "        nfiltersout = 16,           -- number of output convolutional filters\n",
    "        lambda = 1,                 -- sparsity coefficient\n",
    "        beta = 1,                   -- prediction error coefficient\n",
    "        eta = 0.002,                -- learning rate\n",
    "        batchsize = 1,              -- batch size\n",
    "        etadecay = 0.00001,         -- learning rate decay\n",
    "        momentum = 0,               -- gradient momentum\n",
    "        maxiter = 1000000,          -- max number of updates\n",
    "        tied = 0,                   -- decoder weights are tied to encoder\\s weights \n",
    "        hessian = 0,                -- compute diagonal hessian coefficients to condition learning rates\n",
    "        hessiansamples = 500,       -- number of samples to use to estimate hessian\n",
    "        hessianinterval = 10000,    -- compute diagonal hessian coefs at every this many samples\n",
    "        minhessian = 0.02,          -- min hessian to avoid extreme speed up\n",
    "        maxhessian = 500,           -- max hessian to avoid extreme slow down\n",
    "        kernelsize = 9,             -- size of convolutional kernels\n",
    "        statinterval = 5000,        -- interval for saving stats and models\n",
    "        v = 0,                      -- be verbose\n",
    "        display = 1,                -- display stuff\n",
    "        wcar =  '',                 -- additional flag to differentiate this run\n",
    "        datafile =  'http://torch7.s3-website-us-east-1.amazonaws.com/data/tr-berkeley-N5K-M56x56-lcn.ascii' -- Dataset URL\n",
    "}"
   ]
  },
  {
   "cell_type": "code",
   "execution_count": 3,
   "metadata": {
    "collapsed": true
   },
   "outputs": [],
   "source": [
    "----------------------------------------------------------------------\n",
    "-- \n",
    "-- \n",
    "-- \n",
    "-- STEP 1: MODELS & LOSS FUNCTIONS\n",
    "-- \n",
    "-- \n",
    "-- \n",
    "----------------------------------------------------------------------"
   ]
  },
  {
   "cell_type": "code",
   "execution_count": 4,
   "metadata": {
    "collapsed": true
   },
   "outputs": [],
   "source": [
    "----------------------------------------------------------------------\n",
    "-- This script shows how to train autoencoders on natural images,\n",
    "-- using the unsup package.\n",
    "--\n",
    "-- A lote of this code was written and contributed by Koray Kavukcuoglu.\n",
    "--\n",
    "-- In this script, we demonstrate the use of different types of\n",
    "-- autoencoders. Learned filters can be visualized by providing the\n",
    "-- flag -display.\n",
    "--\n",
    "-- Note: simple auto-encoders (with no sparsity constraint on the code) typically\n",
    "-- don't yield filters that are visually appealing, although they might be\n",
    "-- minimizing the reconstruction error correctly.\n",
    "--\n",
    "-- We demonstrate 2 types of auto-encoders:\n",
    "--   * plain: regular auto-encoder\n",
    "--   * predictive sparse decomposition (PSD): the encoder is trained\n",
    "--     to predict an optimal sparse decomposition of the input\n",
    "--\n",
    "-- Both types of auto-encoders can use linear or convolutional\n",
    "-- encoders/decoders. The convolutional version typically yields more\n",
    "-- interesting, less redundant filters for images.\n",
    "--\n",
    "-- Koray Kavukcuoglu, Clement Farabet\n",
    "----------------------------------------------------------------------\n",
    "\n",
    "require 'unsup'\n",
    "require 'image'\n",
    "require 'optim'"
   ]
  },
  {
   "cell_type": "code",
   "execution_count": 5,
   "metadata": {
    "collapsed": false,
    "scrolled": true
   },
   "outputs": [
    {
     "data": {
      "text/plain": [
       "[program started on Tue Jun  2 22:52:53 2015]\t\n",
       "[command line arguments]\t\n",
       "datafile\thttp://torch7.s3-website-us-east-1.amazonaws.com/data/tr-berkeley-N5K-M56x56-lcn.ascii\t\n",
       "seed\t1\t\n",
       "hessiansamples\t500\t\n",
       "rundir\toutputs/psd\t\n",
       "minhessian\t0.02\t\n",
       "kernelsize\t9\t\n",
       "hessian\t0\t\n",
       "model\tconv-psd\t\n",
       "batchsize\t1\t\n",
       "nfiltersout\t16\t\n",
       "tied\t0\t\n",
       "inputsize\t25\t"
      ]
     },
     "execution_count": 5,
     "metadata": {},
     "output_type": "execute_result"
    },
    {
     "data": {
      "text/plain": [
       "\n",
       "subdirectory\toutputs\t\n",
       "hessianinterval\t10000\t\n",
       "wcar\t\t\n",
       "lambda\t1\t\n",
       "eta\t0.002\t\n",
       "v\t0\t\n",
       "momentum\t0\t\n",
       "statinterval\t5000\t\n",
       "maxiter\t1000000\t\n",
       "threads\t2\t\n",
       "maxhessian\t500\t\n",
       "nfiltersin\t1\t\n",
       "beta\t1\t\n",
       "etadecay\t1e-05\t\n",
       "display\t1\t\n",
       "[----------------------]\t\n"
      ]
     },
     "execution_count": 5,
     "metadata": {},
     "output_type": "execute_result"
    }
   ],
   "source": [
    "cmd = torch.CmdLine()\n",
    "rundir = 'psd'\n",
    "params.rundir = params.subdirectory .. '/' .. rundir\n",
    "\n",
    "if paths.dirp(params.rundir) then\n",
    "   os.execute('rm -r ' .. params.rundir)\n",
    "end\n",
    "os.execute('mkdir -p ' .. params.rundir)\n",
    "cmd:addTime('psd')\n",
    "cmd:log(params.rundir .. '/log.txt', params)\n",
    "\n",
    "torch.manualSeed(params.seed)\n",
    "\n",
    "torch.setnumthreads(params.threads)"
   ]
  },
  {
   "cell_type": "code",
   "execution_count": 6,
   "metadata": {
    "collapsed": true
   },
   "outputs": [],
   "source": [
    "local data_verbose = false"
   ]
  },
  {
   "cell_type": "code",
   "execution_count": 7,
   "metadata": {
    "collapsed": true
   },
   "outputs": [],
   "source": [
    "function getdata(datafile, inputsize, std)\n",
    "   local data = torch.load(datafile, 'ascii')\n",
    "   local dataset ={}\n",
    "\n",
    "   local std = std or 0.2\n",
    "   local nsamples = data:size(1)\n",
    "   local nrows = data:size(2)\n",
    "   local ncols = data:size(3)\n",
    "\n",
    "   function dataset:size()\n",
    "      return nsamples\n",
    "   end\n",
    "\n",
    "   function dataset:selectPatch(nr,nc)\n",
    "      local imageok = false\n",
    "      if simdata_verbose then\n",
    "         print('selectPatch')\n",
    "      end\n",
    "      while not imageok do\n",
    "         --image index\n",
    "         local i = math.ceil(torch.uniform(1e-12,nsamples))\n",
    "         local im = data:select(1,i)\n",
    "         -- select some patch for original that contains original + pos\n",
    "         local ri = math.ceil(torch.uniform(1e-12,nrows-nr))\n",
    "         local ci = math.ceil(torch.uniform(1e-12,ncols-nc))\n",
    "         local patch = im:narrow(1,ri,nr)\n",
    "         patch = patch:narrow(2,ci,nc)\n",
    "         local patchstd = patch:std()\n",
    "         if data_verbose then\n",
    "            print('Image ' .. i .. ' ri= ' .. ri .. ' ci= ' .. ci .. ' std= ' .. patchstd)\n",
    "         end\n",
    "         if patchstd > std then\n",
    "            if data_verbose then\n",
    "               print(patch:min(),patch:max())\n",
    "            end\n",
    "            return patch,i,im\n",
    "         end\n",
    "      end\n",
    "   end\n",
    "\n",
    "   local dsample = torch.Tensor(inputsize*inputsize)\n",
    "\n",
    "   function dataset:conv()\n",
    "      dsample = torch.Tensor(1,inputsize,inputsize)\n",
    "   end\n",
    "\n",
    "   setmetatable(dataset, {__index = function(self, index)\n",
    "                                       local sample,i,im = self:selectPatch(inputsize, inputsize)\n",
    "                                       dsample:copy(sample)\n",
    "                                       return {dsample,dsample,im}\n",
    "                                    end})\n",
    "   return dataset\n",
    "end"
   ]
  },
  {
   "cell_type": "code",
   "execution_count": 8,
   "metadata": {
    "collapsed": true
   },
   "outputs": [],
   "source": [
    "function getdatacam(inputsize, std)\n",
    "   require 'camera'\n",
    "   local frow = 60\n",
    "   local fcol = 80\n",
    "   local gs = 5\n",
    "   local cam = image.Camera{width=fcol,height=frow}\n",
    "   local dataset ={}\n",
    "   local counter = 1\n",
    "\n",
    "   local std = std or 0.2\n",
    "   local nsamples = 10000\n",
    "   local gfh = image.gaussian{width=gs,height=1,normalize=true}\n",
    "   local gfv = image.gaussian{width=1,height=gs,normalize=true}\n",
    "   local gf = image.gaussian{width=gs,height=gs,normalize=true}\n",
    "\n",
    "   function dataset:size()\n",
    "      return nsamples\n",
    "   end\n",
    "\n",
    "\n",
    "   local imsq = torch.Tensor()\n",
    "   local lmnh = torch.Tensor()\n",
    "   local lmn = torch.Tensor()\n",
    "   local lmnsqh = torch.Tensor()\n",
    "   local lmnsq = torch.Tensor()\n",
    "   local lvar = torch.Tensor()\n",
    "   local function lcn(im)\n",
    "      local mn = im:mean()\n",
    "      local std = im:std()\n",
    "      if data_verbose then\n",
    "         print('im',mn,std,im:min(),im:max())\n",
    "      end\n",
    "      im:add(-mn)\n",
    "      im:div(std)\n",
    "      if data_verbose then\n",
    "         print('im',im:min(),im:max(),im:mean(), im:std())\n",
    "      end\n",
    "\n",
    "      imsq:resizeAs(im):copy(im):cmul(im)\n",
    "      if data_verbose then\n",
    "         print('imsq',imsq:min(),imsq:max())\n",
    "      end\n",
    "\n",
    "      torch.conv2(lmnh,im,gfh)\n",
    "      torch.conv2(lmn,lmnh,gfv)\n",
    "      if data_verbose then\n",
    "         print('lmn',lmn:min(),lmn:max())\n",
    "      end\n",
    "\n",
    "      --local lmn = torch.conv2(im,gf)\n",
    "      torch.conv2(lmnsqh,imsq,gfh)\n",
    "      torch.conv2(lmnsq,lmnsqh,gfv)\n",
    "      if data_verbose then         \n",
    "         print('lmnsq',lmnsq:min(),lmnsq:max())\n",
    "      end\n",
    "\n",
    "      lvar:resizeAs(lmn):copy(lmn):cmul(lmn)\n",
    "      lvar:mul(-1)\n",
    "      lvar:add(lmnsq)\n",
    "      if data_verbose then      \n",
    "         print('2',lvar:min(),lvar:max())\n",
    "      end\n",
    "\n",
    "      lvar:apply(function (x) if x<0 then return 0 else return x end end)\n",
    "      if data_verbose then\n",
    "         print('2',lvar:min(),lvar:max())\n",
    "      end\n",
    "\n",
    "      local lstd = lvar\n",
    "      lstd:sqrt()\n",
    "      lstd:apply(function (x) if x<1 then return 1 else return x end end)\n",
    "      if data_verbose then\n",
    "         print('lstd',lstd:min(),lstd:max())\n",
    "      end\n",
    "\n",
    "      local shift = (gs+1)/2\n",
    "      local nim = im:narrow(1,shift,im:size(1)-(gs-1)):narrow(2,shift,im:size(2)-(gs-1))\n",
    "      nim:add(-1,lmn)\n",
    "      nim:cdiv(lstd)\n",
    "      if data_verbose then\n",
    "         print('nim',nim:min(),nim:max())\n",
    "      end\n",
    "\n",
    "      return nim\n",
    "   end\n",
    "\n",
    "   function dataset:selectPatch(nr,nc)\n",
    "      local imageok = false\n",
    "      if simdata_verbose then\n",
    "         print('selectPatch')\n",
    "      end\n",
    "      counter = counter + 1\n",
    "      local imgray = image.rgb2y(cam:forward())\n",
    "\n",
    "      local nim = lcn(imgray[1]:clone())\n",
    "      while not imageok do\n",
    "\n",
    "         -- select some patch for original that contains original + pos\n",
    "         local ri = math.ceil(torch.uniform(1e-12,nim:size(1)-nr))\n",
    "         local ci = math.ceil(torch.uniform(1e-12,nim:size(2)-nc))\n",
    "         local patch = nim:narrow(1,ri,nr)\n",
    "         patch = patch:narrow(2,ci,nc)\n",
    "         local patchstd = patch:std()\n",
    "         if data_verbose then\n",
    "            print('Image ' .. 0 .. ' ri= ' .. ri .. ' ci= ' .. ci .. ' std= ' .. patchstd)\n",
    "         end\n",
    "         if patchstd > std then\n",
    "            if data_verbose then\n",
    "               print(patch:min(),patch:max())\n",
    "            end\n",
    "            return patch,i,nim\n",
    "         end\n",
    "      end\n",
    "   end\n",
    "\n",
    "   local dsample = torch.Tensor(inputsize*inputsize)\n",
    "   setmetatable(dataset, {__index = function(self, index)\n",
    "                                       local sample,i,im = self:selectPatch(inputsize, inputsize)\n",
    "                                       dsample:copy(sample)\n",
    "                                       return {dsample,dsample,im}\n",
    "                                    end})\n",
    "   return dataset\n",
    "end"
   ]
  },
  {
   "cell_type": "code",
   "execution_count": 9,
   "metadata": {
    "collapsed": true
   },
   "outputs": [],
   "source": [
    "-- dataset, dataset=createDataset(....)\n",
    "-- nsamples, how many samples to display from dataset\n",
    "-- nrow, number of samples per row for displaying samples\n",
    "-- zoom, zoom at which to draw dataset\n",
    "function displayData(dataset, nsamples, nrow, zoom)\n",
    "   require 'image'\n",
    "   local nsamples = nsamples or 100\n",
    "   local zoom = zoom or 1\n",
    "   local nrow = nrow or 10\n",
    "\n",
    "   cntr = 1\n",
    "   local ex = {}\n",
    "   for i=1,nsamples do\n",
    "      local exx = dataset[1]\n",
    "      ex[cntr] = exx[1]:clone():unfold(1,math.sqrt(exx[1]:size(1)),math.sqrt(exx[1]:size(1)))\n",
    "      cntr = cntr + 1\n",
    "   end\n",
    "   if itorch then\n",
    "      itorch.image(ex)\n",
    "   else\n",
    "      print('For visualization, run the script in itorch')\n",
    "   end\n",
    "end"
   ]
  },
  {
   "cell_type": "code",
   "execution_count": 10,
   "metadata": {
    "collapsed": false
   },
   "outputs": [
    {
     "data": {
      "image/png": "[encoded data removed]",
      "text/plain": [
       "Console does not support images"
      ]
     },
     "metadata": {
      "image/png": {
       "height": 459,
       "width": 162
      }
     },
     "output_type": "display_data"
    }
   ],
   "source": [
    "filename = paths.basename(params.datafile)\n",
    "if not paths.filep(filename) then\n",
    "   os.execute('wget ' .. params.datafile)\n",
    "end\n",
    "dataset = getdata(filename, params.inputsize)\n",
    "\n",
    "if params.display then\n",
    "   displayData(dataset, 100, 10, 2)\n",
    "end"
   ]
  },
  {
   "cell_type": "code",
   "execution_count": 11,
   "metadata": {
    "collapsed": true
   },
   "outputs": [],
   "source": [
    "----------------------------------------------------------------------\n",
    "-- \n",
    "-- \n",
    "-- \n",
    "-- STEP 2: TRAINING\n",
    "-- \n",
    "-- \n",
    "-- \n",
    "----------------------------------------------------------------------"
   ]
  },
  {
   "cell_type": "code",
   "execution_count": 12,
   "metadata": {
    "collapsed": false
   },
   "outputs": [
    {
     "data": {
      "text/plain": [
       "==> constructing model\t\n"
      ]
     },
     "execution_count": 12,
     "metadata": {},
     "output_type": "execute_result"
    }
   ],
   "source": [
    "-----------------------------------------------------------------------\n",
    "print '==> constructing model'\n",
    "\n",
    "if params.model == 'linear' then\n",
    "\n",
    "   -- params\n",
    "   inputSize = params.inputsize*params.inputsize\n",
    "   outputSize = params.nfiltersout\n",
    "\n",
    "   -- encoder\n",
    "   encoder = nn.Sequential()\n",
    "   encoder:add(nn.Linear(inputSize,outputSize))\n",
    "   encoder:add(nn.Tanh())\n",
    "   encoder:add(nn.Diag(outputSize))\n",
    "\n",
    "   -- decoder\n",
    "   decoder = nn.Sequential()\n",
    "   decoder:add(nn.Linear(outputSize,inputSize))\n",
    "\n",
    "   -- tied weights\n",
    "   if params.tied and not params.hessian then\n",
    "      -- impose weight sharing\n",
    "      decoder:get(1).weight = encoder:get(1).weight:t()\n",
    "      decoder:get(1).gradWeight = encoder:get(1).gradWeight:t()\n",
    "   elseif params.tied then\n",
    "      print('==> WARNING: weight sharing only supported with no hessian computation')\n",
    "   end\n",
    "\n",
    "   -- complete model\n",
    "   module = unsup.AutoEncoder(encoder, decoder, params.beta)\n",
    "\n",
    "   -- verbose\n",
    "   print('==> constructed linear auto-encoder')\n",
    "\n",
    "elseif params.model == 'conv' then\n",
    "\n",
    "   -- params:\n",
    "   conntable = nn.tables.full(params.nfiltersin, params.nfiltersout)\n",
    "   kw, kh = params.kernelsize, params.kernelsize\n",
    "   iw, ih = params.inputsize, params.inputsize\n",
    "\n",
    "   -- connection table:\n",
    "   local decodertable = conntable:clone()\n",
    "   decodertable[{ {},1 }] = conntable[{ {},2 }]\n",
    "   decodertable[{ {},2 }] = conntable[{ {},1 }]\n",
    "   local outputFeatures = conntable[{ {},2 }]:max()\n",
    "\n",
    "   -- encoder:\n",
    "   encoder = nn.Sequential()\n",
    "   encoder:add(nn.SpatialConvolutionMap(conntable, kw, kh, 1, 1))\n",
    "   encoder:add(nn.Tanh())\n",
    "   encoder:add(nn.Diag(outputFeatures))\n",
    "\n",
    "   -- decoder:\n",
    "   decoder = nn.Sequential()\n",
    "   decoder:add(nn.SpatialFullConvolutionMap(decodertable, kw, kh, 1, 1))\n",
    "\n",
    "   -- complete model\n",
    "   module = unsup.AutoEncoder(encoder, decoder, params.beta)\n",
    "\n",
    "   -- convert dataset to convolutional (returns 1xKxK tensors (3D), instead of K*K (1D))\n",
    "   dataset:conv()\n",
    "\n",
    "   -- verbose\n",
    "   print('==> constructed convolutional auto-encoder')\n",
    "\n",
    "elseif params.model == 'linear-psd' then\n",
    "\n",
    "   -- params\n",
    "   inputSize = params.inputsize*params.inputsize\n",
    "   outputSize = params.nfiltersout\n",
    "\n",
    "   -- encoder\n",
    "   encoder = nn.Sequential()\n",
    "   encoder:add(nn.Linear(inputSize,outputSize))\n",
    "   encoder:add(nn.Tanh())\n",
    "   encoder:add(nn.Diag(outputSize))\n",
    "\n",
    "   -- decoder is L1 solution\n",
    "   decoder = unsup.LinearFistaL1(inputSize, outputSize, params.lambda)\n",
    "\n",
    "   -- PSD autoencoder\n",
    "   module = unsup.PSD(encoder, decoder, params.beta)\n",
    "\n",
    "   -- verbose\n",
    "   print('==> constructed linear predictive sparse decomposition (PSD) auto-encoder')\n",
    "\n",
    "elseif params.model == 'conv-psd' then\n",
    "\n",
    "   -- params:\n",
    "   conntable = nn.tables.full(params.nfiltersin, params.nfiltersout)\n",
    "   kw, kh = params.kernelsize, params.kernelsize\n",
    "   iw, ih = params.inputsize, params.inputsize\n",
    "\n",
    "   -- connection table:\n",
    "   local decodertable = conntable:clone()\n",
    "   decodertable[{ {},1 }] = conntable[{ {},2 }]\n",
    "   decodertable[{ {},2 }] = conntable[{ {},1 }]\n",
    "   local outputFeatures = conntable[{ {},2 }]:max()\n",
    "\n",
    "   -- encoder:\n",
    "   encoder = nn.Sequential()\n",
    "   encoder:add(nn.SpatialConvolutionMap(conntable, kw, kh, 1, 1))\n",
    "   encoder:add(nn.Tanh())\n",
    "   encoder:add(nn.Diag(outputFeatures))\n",
    "\n",
    "   -- decoder is L1 solution:\n",
    "   decoder = unsup.SpatialConvFistaL1(decodertable, kw, kh, iw, ih, params.lambda)\n",
    "\n",
    "   -- PSD autoencoder\n",
    "   module = unsup.PSD(encoder, decoder, params.beta)\n",
    "\n",
    "   -- convert dataset to convolutional (returns 1xKxK tensors (3D), instead of K*K (1D))\n",
    "   dataset:conv()\n",
    "\n",
    "   -- verbose\n",
    "   print('==> constructed convolutional predictive sparse decomposition (PSD) auto-encoder')\n",
    "\n",
    "else\n",
    "   print('==> unknown model: ' .. params.model)\n",
    "   os.exit()\n",
    "end"
   ]
  },
  {
   "cell_type": "code",
   "execution_count": 13,
   "metadata": {
    "collapsed": false
   },
   "outputs": [
    {
     "data": {
      "text/plain": [
       "==> constructed convolutional predictive sparse decomposition (PSD) auto-encoder\t\n"
      ]
     },
     "execution_count": 13,
     "metadata": {},
     "output_type": "execute_result"
    }
   ],
   "source": [
    "----------------------------------------------------------------------\n",
    "-- \n",
    "-- \n",
    "-- \n",
    "-- STEP 3: SECOND-ORDER INFORMATION\n",
    "-- \n",
    "-- \n",
    "-- \n",
    "----------------------------------------------------------------------"
   ]
  },
  {
   "cell_type": "code",
   "execution_count": 14,
   "metadata": {
    "collapsed": false
   },
   "outputs": [
    {
     "data": {
      "text/plain": [
       "\n"
      ]
     },
     "execution_count": 14,
     "metadata": {},
     "output_type": "execute_result"
    }
   ],
   "source": [
    "-- fix needed to avoid error: attempt to call method 'initDiagHessianParameters' (a nil value)\n",
    "-- fix from: https://github.com/torch/tutorials/issues/4\n",
    "nn.hessian.enable()"
   ]
  },
  {
   "cell_type": "code",
   "execution_count": null,
   "metadata": {
    "collapsed": false
   },
   "outputs": [
    {
     "data": {
      "text/plain": [
       "==> training model\t\n"
      ]
     },
     "execution_count": 15,
     "metadata": {},
     "output_type": "execute_result"
    },
    {
     "data": {
      "text/plain": [
       "==> estimating diagonal hessian elements\t\n"
      ]
     },
     "execution_count": 15,
     "metadata": {},
     "output_type": "execute_result"
    },
    {
     "data": {
      "text/plain": [
       "==> ddl/ddx : min/max = 0/625\t\n",
       "==> corrected ddl/ddx : min/max = 0.02/500\t\n"
      ]
     },
     "execution_count": 15,
     "metadata": {},
     "output_type": "execute_result"
    },
    {
     "data": {
      "text/plain": [
       "Progress: 12 / 5000\t\n"
      ]
     },
     "execution_count": 15,
     "metadata": {},
     "output_type": "execute_result"
    },
    {
     "data": {
      "text/plain": [
       "Progress: 124 / 5000\t\n"
      ]
     },
     "execution_count": 15,
     "metadata": {},
     "output_type": "execute_result"
    },
    {
     "data": {
      "text/plain": [
       "Progress: 223 / 5000\t\n"
      ]
     },
     "execution_count": 15,
     "metadata": {},
     "output_type": "execute_result"
    },
    {
     "data": {
      "text/plain": [
       "Progress: 319 / 5000\t\n"
      ]
     },
     "execution_count": 15,
     "metadata": {},
     "output_type": "execute_result"
    },
    {
     "data": {
      "text/plain": [
       "Progress: 420 / 5000\t\n"
      ]
     },
     "execution_count": 15,
     "metadata": {},
     "output_type": "execute_result"
    },
    {
     "data": {
      "text/plain": [
       "Progress: 523 / 5000\t\n"
      ]
     },
     "execution_count": 15,
     "metadata": {},
     "output_type": "execute_result"
    },
    {
     "data": {
      "text/plain": [
       "Progress: 622 / 5000\t\n"
      ]
     },
     "execution_count": 15,
     "metadata": {},
     "output_type": "execute_result"
    },
    {
     "data": {
      "text/plain": [
       "Progress: 742 / 5000\t\n"
      ]
     },
     "execution_count": 15,
     "metadata": {},
     "output_type": "execute_result"
    },
    {
     "data": {
      "text/plain": [
       "Progress: 901 / 5000\t\n"
      ]
     },
     "execution_count": 15,
     "metadata": {},
     "output_type": "execute_result"
    },
    {
     "data": {
      "text/plain": [
       "Progress: 1048 / 5000\t\n"
      ]
     },
     "execution_count": 15,
     "metadata": {},
     "output_type": "execute_result"
    },
    {
     "data": {
      "text/plain": [
       "Progress: 1209 / 5000\t\n"
      ]
     },
     "execution_count": 15,
     "metadata": {},
     "output_type": "execute_result"
    },
    {
     "data": {
      "text/plain": [
       "Progress: 1375 / 5000\t\n"
      ]
     },
     "execution_count": 15,
     "metadata": {},
     "output_type": "execute_result"
    },
    {
     "data": {
      "text/plain": [
       "Progress: 1550 / 5000\t\n"
      ]
     },
     "execution_count": 15,
     "metadata": {},
     "output_type": "execute_result"
    },
    {
     "data": {
      "text/plain": [
       "Progress: 1698 / 5000\t\n"
      ]
     },
     "execution_count": 15,
     "metadata": {},
     "output_type": "execute_result"
    },
    {
     "data": {
      "text/plain": [
       "Progress: 1864 / 5000\t\n"
      ]
     },
     "execution_count": 15,
     "metadata": {},
     "output_type": "execute_result"
    },
    {
     "data": {
      "text/plain": [
       "Progress: 2032 / 5000\t\n"
      ]
     },
     "execution_count": 15,
     "metadata": {},
     "output_type": "execute_result"
    },
    {
     "data": {
      "text/plain": [
       "Progress: 2208 / 5000\t\n"
      ]
     },
     "execution_count": 15,
     "metadata": {},
     "output_type": "execute_result"
    },
    {
     "data": {
      "text/plain": [
       "Progress: 2373 / 5000\t\n"
      ]
     },
     "execution_count": 15,
     "metadata": {},
     "output_type": "execute_result"
    },
    {
     "data": {
      "text/plain": [
       "Progress: 2539 / 5000\t\n"
      ]
     },
     "execution_count": 15,
     "metadata": {},
     "output_type": "execute_result"
    },
    {
     "data": {
      "text/plain": [
       "Progress: 2707 / 5000\t\n"
      ]
     },
     "execution_count": 15,
     "metadata": {},
     "output_type": "execute_result"
    },
    {
     "data": {
      "text/plain": [
       "Progress: 2867 / 5000\t\n"
      ]
     },
     "execution_count": 15,
     "metadata": {},
     "output_type": "execute_result"
    },
    {
     "data": {
      "text/plain": [
       "Progress: 3029 / 5000\t\n"
      ]
     },
     "execution_count": 15,
     "metadata": {},
     "output_type": "execute_result"
    },
    {
     "data": {
      "text/plain": [
       "Progress: 3195 / 5000\t\n"
      ]
     },
     "execution_count": 15,
     "metadata": {},
     "output_type": "execute_result"
    },
    {
     "data": {
      "text/plain": [
       "Progress: 3351 / 5000\t\n"
      ]
     },
     "execution_count": 15,
     "metadata": {},
     "output_type": "execute_result"
    },
    {
     "data": {
      "text/plain": [
       "Progress: 3505 / 5000\t\n"
      ]
     },
     "execution_count": 15,
     "metadata": {},
     "output_type": "execute_result"
    },
    {
     "data": {
      "text/plain": [
       "Progress: 3668 / 5000\t\n"
      ]
     },
     "execution_count": 15,
     "metadata": {},
     "output_type": "execute_result"
    },
    {
     "data": {
      "text/plain": [
       "Progress: 3829 / 5000\t\n"
      ]
     },
     "execution_count": 15,
     "metadata": {},
     "output_type": "execute_result"
    },
    {
     "data": {
      "text/plain": [
       "Progress: 3992 / 5000\t\n"
      ]
     },
     "execution_count": 15,
     "metadata": {},
     "output_type": "execute_result"
    },
    {
     "data": {
      "text/plain": [
       "Progress: 4115 / 5000\t\n"
      ]
     },
     "execution_count": 15,
     "metadata": {},
     "output_type": "execute_result"
    },
    {
     "data": {
      "text/plain": [
       "Progress: 4206 / 5000\t\n"
      ]
     },
     "execution_count": 15,
     "metadata": {},
     "output_type": "execute_result"
    },
    {
     "data": {
      "text/plain": [
       "Progress: 4307 / 5000\t\n"
      ]
     },
     "execution_count": 15,
     "metadata": {},
     "output_type": "execute_result"
    },
    {
     "data": {
      "text/plain": [
       "Progress: 4442 / 5000\t\n"
      ]
     },
     "execution_count": 15,
     "metadata": {},
     "output_type": "execute_result"
    },
    {
     "data": {
      "text/plain": [
       "Progress: 4540 / 5000\t\n"
      ]
     },
     "execution_count": 15,
     "metadata": {},
     "output_type": "execute_result"
    },
    {
     "data": {
      "text/plain": [
       "Progress: 4645 / 5000\t\n"
      ]
     },
     "execution_count": 15,
     "metadata": {},
     "output_type": "execute_result"
    },
    {
     "data": {
      "text/plain": [
       "Progress: 4747 / 5000\t\n"
      ]
     },
     "execution_count": 15,
     "metadata": {},
     "output_type": "execute_result"
    },
    {
     "data": {
      "text/plain": [
       "Progress: 4911 / 5000\t\n"
      ]
     },
     "execution_count": 15,
     "metadata": {},
     "output_type": "execute_result"
    },
    {
     "data": {
      "text/plain": [
       "==> iteration = 5000, average loss = 33.334388070442\t\n"
      ]
     },
     "execution_count": 15,
     "metadata": {},
     "output_type": "execute_result"
    },
    {
     "data": {
      "text/plain": [
       "Decoder filters\t\n"
      ]
     },
     "execution_count": 15,
     "metadata": {},
     "output_type": "execute_result"
    },
    {
     "data": {
      "image/png": "[encoded data removed]",
      "text/plain": [
       "Console does not support images"
      ]
     },
     "metadata": {
      "image/png": {
       "height": 44,
       "width": 44
      }
     },
     "output_type": "display_data"
    },
    {
     "data": {
      "text/plain": [
       "Encoder filters\t\n"
      ]
     },
     "execution_count": 15,
     "metadata": {},
     "output_type": "execute_result"
    },
    {
     "data": {
      "image/png": "[encoded data removed]",
      "text/plain": [
       "Console does not support images"
      ]
     },
     "metadata": {
      "image/png": {
       "height": 44,
       "width": 44
      }
     },
     "output_type": "display_data"
    },
    {
     "data": {
      "text/plain": [
       "Progress: 69 / 5000\t\n"
      ]
     },
     "execution_count": 15,
     "metadata": {},
     "output_type": "execute_result"
    },
    {
     "data": {
      "text/plain": [
       "Progress: 223 / 5000\t\n"
      ]
     },
     "execution_count": 15,
     "metadata": {},
     "output_type": "execute_result"
    },
    {
     "data": {
      "text/plain": [
       "Progress: 375 / 5000\t\n"
      ]
     },
     "execution_count": 15,
     "metadata": {},
     "output_type": "execute_result"
    },
    {
     "data": {
      "text/plain": [
       "Progress: 530 / 5000\t\n"
      ]
     },
     "execution_count": 15,
     "metadata": {},
     "output_type": "execute_result"
    },
    {
     "data": {
      "text/plain": [
       "Progress: 693 / 5000\t\n"
      ]
     },
     "execution_count": 15,
     "metadata": {},
     "output_type": "execute_result"
    },
    {
     "data": {
      "text/plain": [
       "Progress: 851 / 5000\t\n"
      ]
     },
     "execution_count": 15,
     "metadata": {},
     "output_type": "execute_result"
    },
    {
     "data": {
      "text/plain": [
       "Progress: 1008 / 5000\t\n"
      ]
     },
     "execution_count": 15,
     "metadata": {},
     "output_type": "execute_result"
    },
    {
     "data": {
      "text/plain": [
       "Progress: 1165 / 5000\t\n"
      ]
     },
     "execution_count": 15,
     "metadata": {},
     "output_type": "execute_result"
    },
    {
     "data": {
      "text/plain": [
       "Progress: 1321 / 5000\t\n"
      ]
     },
     "execution_count": 15,
     "metadata": {},
     "output_type": "execute_result"
    },
    {
     "data": {
      "text/plain": [
       "Progress: 1490 / 5000\t\n"
      ]
     },
     "execution_count": 15,
     "metadata": {},
     "output_type": "execute_result"
    },
    {
     "data": {
      "text/plain": [
       "Progress: 1650 / 5000\t\n"
      ]
     },
     "execution_count": 15,
     "metadata": {},
     "output_type": "execute_result"
    },
    {
     "data": {
      "text/plain": [
       "Progress: 1817 / 5000\t\n"
      ]
     },
     "execution_count": 15,
     "metadata": {},
     "output_type": "execute_result"
    },
    {
     "data": {
      "text/plain": [
       "Progress: 1970 / 5000\t\n"
      ]
     },
     "execution_count": 15,
     "metadata": {},
     "output_type": "execute_result"
    },
    {
     "data": {
      "text/plain": [
       "Progress: 2131 / 5000\t\n"
      ]
     },
     "execution_count": 15,
     "metadata": {},
     "output_type": "execute_result"
    },
    {
     "data": {
      "text/plain": [
       "Progress: 2282 / 5000\t\n"
      ]
     },
     "execution_count": 15,
     "metadata": {},
     "output_type": "execute_result"
    },
    {
     "data": {
      "text/plain": [
       "Progress: 2435 / 5000\t\n"
      ]
     },
     "execution_count": 15,
     "metadata": {},
     "output_type": "execute_result"
    },
    {
     "data": {
      "text/plain": [
       "Progress: 2589 / 5000\t\n"
      ]
     },
     "execution_count": 15,
     "metadata": {},
     "output_type": "execute_result"
    },
    {
     "data": {
      "text/plain": [
       "Progress: 2750 / 5000\t\n"
      ]
     },
     "execution_count": 15,
     "metadata": {},
     "output_type": "execute_result"
    },
    {
     "data": {
      "text/plain": [
       "Progress: 2914 / 5000\t\n"
      ]
     },
     "execution_count": 15,
     "metadata": {},
     "output_type": "execute_result"
    },
    {
     "data": {
      "text/plain": [
       "Progress: 3073 / 5000\t\n"
      ]
     },
     "execution_count": 15,
     "metadata": {},
     "output_type": "execute_result"
    },
    {
     "data": {
      "text/plain": [
       "Progress: 3231 / 5000\t\n"
      ]
     },
     "execution_count": 15,
     "metadata": {},
     "output_type": "execute_result"
    },
    {
     "data": {
      "text/plain": [
       "Progress: 3370 / 5000\t\n"
      ]
     },
     "execution_count": 15,
     "metadata": {},
     "output_type": "execute_result"
    },
    {
     "data": {
      "text/plain": [
       "Progress: 3534 / 5000\t\n"
      ]
     },
     "execution_count": 15,
     "metadata": {},
     "output_type": "execute_result"
    },
    {
     "data": {
      "text/plain": [
       "Progress: 3696 / 5000\t\n"
      ]
     },
     "execution_count": 15,
     "metadata": {},
     "output_type": "execute_result"
    },
    {
     "data": {
      "text/plain": [
       "Progress: 3860 / 5000\t\n"
      ]
     },
     "execution_count": 15,
     "metadata": {},
     "output_type": "execute_result"
    },
    {
     "data": {
      "text/plain": [
       "Progress: 4013 / 5000\t\n"
      ]
     },
     "execution_count": 15,
     "metadata": {},
     "output_type": "execute_result"
    },
    {
     "data": {
      "text/plain": [
       "Progress: 4135 / 5000\t\n"
      ]
     },
     "execution_count": 15,
     "metadata": {},
     "output_type": "execute_result"
    },
    {
     "data": {
      "text/plain": [
       "Progress: 4230 / 5000\t\n"
      ]
     },
     "execution_count": 15,
     "metadata": {},
     "output_type": "execute_result"
    },
    {
     "data": {
      "text/plain": [
       "Progress: 4327 / 5000\t\n"
      ]
     },
     "execution_count": 15,
     "metadata": {},
     "output_type": "execute_result"
    },
    {
     "data": {
      "text/plain": [
       "Progress: 4415 / 5000\t\n"
      ]
     },
     "execution_count": 15,
     "metadata": {},
     "output_type": "execute_result"
    },
    {
     "data": {
      "text/plain": [
       "Progress: 4506 / 5000\t\n"
      ]
     },
     "execution_count": 15,
     "metadata": {},
     "output_type": "execute_result"
    },
    {
     "data": {
      "text/plain": [
       "Progress: 4597 / 5000\t\n"
      ]
     },
     "execution_count": 15,
     "metadata": {},
     "output_type": "execute_result"
    },
    {
     "data": {
      "text/plain": [
       "Progress: 4702 / 5000\t\n"
      ]
     },
     "execution_count": 15,
     "metadata": {},
     "output_type": "execute_result"
    },
    {
     "data": {
      "text/plain": [
       "Progress: 4799 / 5000\t\n"
      ]
     },
     "execution_count": 15,
     "metadata": {},
     "output_type": "execute_result"
    },
    {
     "data": {
      "text/plain": [
       "Progress: 4890 / 5000\t\n"
      ]
     },
     "execution_count": 15,
     "metadata": {},
     "output_type": "execute_result"
    },
    {
     "data": {
      "text/plain": [
       "Progress: 4990 / 5000\t\n"
      ]
     },
     "execution_count": 15,
     "metadata": {},
     "output_type": "execute_result"
    },
    {
     "data": {
      "text/plain": [
       "==> iteration = 10000, average loss = 20.74220627084\t\n",
       "Decoder filters\t\n"
      ]
     },
     "execution_count": 15,
     "metadata": {},
     "output_type": "execute_result"
    },
    {
     "data": {
      "text/plain": [
       "Encoder filters\t\n"
      ]
     },
     "execution_count": 15,
     "metadata": {},
     "output_type": "execute_result"
    },
    {
     "data": {
      "image/png": "[encoded data removed]",
      "text/plain": [
       "Console does not support images"
      ]
     },
     "metadata": {
      "image/png": {
       "height": 44,
       "width": 44
      }
     },
     "output_type": "display_data"
    },
    {
     "data": {
      "image/png": "[encoded data removed]",
      "text/plain": [
       "Console does not support images"
      ]
     },
     "metadata": {
      "image/png": {
       "height": 44,
       "width": 44
      }
     },
     "output_type": "display_data"
    },
    {
     "data": {
      "text/plain": [
       "==> estimating diagonal hessian elements\t\n"
      ]
     },
     "execution_count": 15,
     "metadata": {},
     "output_type": "execute_result"
    }
   ],
   "source": [
    "\n",
    "-----------------------------------------------------------------------\n",
    "print '==> training model'\n",
    "\n",
    "-- are we using the hessian?\n",
    "if params.hessian then\n",
    "   module:initDiagHessianParameters()\n",
    "end\n",
    "\n",
    "-- get all parameters\n",
    "x,dl_dx,ddl_ddx = module:getParameters()\n",
    "\n",
    "-- training errors\n",
    "local err = 0\n",
    "local iter = 0\n",
    "\n",
    "for t = 1,params.maxiter,params.batchsize do\n",
    "\n",
    "   --------------------------------------------------------------------\n",
    "   -- update diagonal hessian parameters\n",
    "   --\n",
    "   if params.hessian and math.fmod(t , params.hessianinterval) == 1 then\n",
    "      -- some extra vars:\n",
    "      local hessiansamples = params.hessiansamples\n",
    "      local minhessian = params.minhessian\n",
    "      local maxhessian = params.maxhessian\n",
    "      local ddl_ddx_avg = ddl_ddx:clone(ddl_ddx):zero()\n",
    "      etas = etas or ddl_ddx:clone()\n",
    "\n",
    "      print('==> estimating diagonal hessian elements')\n",
    "      for i = 1,hessiansamples do\n",
    "         -- next\n",
    "         local ex = dataset[i]\n",
    "         local input = ex[1]\n",
    "         local target = ex[2]\n",
    "         module:updateOutput(input, target)\n",
    "\n",
    "         -- gradient\n",
    "         dl_dx:zero()\n",
    "         module:updateGradInput(input, target)\n",
    "         module:accGradParameters(input, target)\n",
    "\n",
    "         -- hessian\n",
    "         ddl_ddx:zero()\n",
    "         module:updateDiagHessianInput(input, target)\n",
    "         module:accDiagHessianParameters(input, target)\n",
    "\n",
    "         -- accumulate\n",
    "         ddl_ddx_avg:add(1/hessiansamples, ddl_ddx)\n",
    "      end\n",
    "\n",
    "      -- cap hessian params\n",
    "      print('==> ddl/ddx : min/max = ' .. ddl_ddx_avg:min() .. '/' .. ddl_ddx_avg:max())\n",
    "      ddl_ddx_avg[torch.lt(ddl_ddx_avg,minhessian)] = minhessian\n",
    "      ddl_ddx_avg[torch.gt(ddl_ddx_avg,maxhessian)] = maxhessian\n",
    "      print('==> corrected ddl/ddx : min/max = ' .. ddl_ddx_avg:min() .. '/' .. ddl_ddx_avg:max())\n",
    "\n",
    "      -- generate learning rates\n",
    "      etas:fill(1):cdiv(ddl_ddx_avg)\n",
    "   end\n",
    "\n",
    "   --------------------------------------------------------------------\n",
    "   -- progress\n",
    "   --\n",
    "   iter = iter+1\n",
    "   xlua.progress(iter*params.batchsize, params.statinterval)\n",
    "\n",
    "   --------------------------------------------------------------------\n",
    "   -- create mini-batch\n",
    "   --\n",
    "   local example = dataset[t]\n",
    "   local inputs = {}\n",
    "   local targets = {}\n",
    "   for i = t,t+params.batchsize-1 do\n",
    "      -- load new sample\n",
    "      local sample = dataset[i]\n",
    "      local input = sample[1]:clone()\n",
    "      local target = sample[2]:clone()\n",
    "      table.insert(inputs, input)\n",
    "      table.insert(targets, target)\n",
    "   end\n",
    "\n",
    "   --------------------------------------------------------------------\n",
    "   -- define eval closure\n",
    "   --\n",
    "   local feval = function()\n",
    "      -- reset gradient/f\n",
    "      local f = 0\n",
    "      dl_dx:zero()\n",
    "\n",
    "      -- estimate f and gradients, for minibatch\n",
    "      for i = 1,#inputs do\n",
    "         -- f\n",
    "         f = f + module:updateOutput(inputs[i], targets[i])\n",
    "\n",
    "         -- gradients\n",
    "         module:updateGradInput(inputs[i], targets[i])\n",
    "         module:accGradParameters(inputs[i], targets[i])\n",
    "      end\n",
    "\n",
    "      -- normalize\n",
    "      dl_dx:div(#inputs)\n",
    "      f = f/#inputs\n",
    "\n",
    "      -- return f and df/dx\n",
    "      return f,dl_dx\n",
    "   end\n",
    "\n",
    "   --------------------------------------------------------------------\n",
    "   -- one SGD step\n",
    "   --\n",
    "   sgdconf = sgdconf or {learningRate = params.eta,\n",
    "                         learningRateDecay = params.etadecay,\n",
    "                         learningRates = etas,\n",
    "                         momentum = params.momentum}\n",
    "   _,fs = optim.sgd(feval, x, sgdconf)\n",
    "   err = err + fs[1]*params.batchsize -- so that err is indep of batch size\n",
    "\n",
    "   -- normalize\n",
    "   if params.model:find('psd') then\n",
    "      module:normalize()\n",
    "   end\n",
    "\n",
    "   --------------------------------------------------------------------\n",
    "   -- compute statistics / report error\n",
    "   --\n",
    "   if iter*params.batchsize >= params.statinterval then\n",
    "\n",
    "      -- report\n",
    "      print('==> iteration = ' .. t .. ', average loss = ' .. err/params.statinterval)\n",
    "\n",
    "      -- get weights\n",
    "      eweight = module.encoder.modules[1].weight\n",
    "      if module.decoder.D then\n",
    "         dweight = module.decoder.D.weight\n",
    "      else\n",
    "         dweight = module.decoder.modules[1].weight\n",
    "      end\n",
    "\n",
    "      -- reshape weights if linear matrix is used\n",
    "      if params.model:find('linear') then\n",
    "         dweight = dweight:transpose(1,2):unfold(2,params.inputsize,params.inputsize)\n",
    "         eweight = eweight:unfold(2,params.inputsize,params.inputsize)\n",
    "      end\n",
    "\n",
    "      -- render filters\n",
    "      dd = image.toDisplayTensor{input=dweight,\n",
    "                                 padding=2,\n",
    "                                 nrow=math.floor(math.sqrt(params.nfiltersout)),\n",
    "                                 symmetric=true}\n",
    "      de = image.toDisplayTensor{input=eweight,\n",
    "                                 padding=2,\n",
    "                                 nrow=math.floor(math.sqrt(params.nfiltersout)),\n",
    "                                 symmetric=true}\n",
    "\n",
    "      -- live display\n",
    "      if params.display then\n",
    "         if itorch then\n",
    "            print('Decoder filters')\n",
    "            itorch.image(dd)\n",
    "            print('Encoder filters')\n",
    "            itorch.image(de)\n",
    "         else\n",
    "            print('run in itorch for visualization')\n",
    "         end\n",
    "      end\n",
    "\n",
    "      -- save stuff\n",
    "      image.save(params.rundir .. '/filters_dec_' .. t .. '.jpg', dd)\n",
    "      image.save(params.rundir .. '/filters_enc_' .. t .. '.jpg', de)\n",
    "      torch.save(params.rundir .. '/model_' .. t .. '.bin', module)\n",
    "\n",
    "      -- reset counters\n",
    "      err = 0; iter = 0\n",
    "   end\n",
    "end"
   ]
  }
 ],
 "metadata": {
  "kernelspec": {
   "display_name": "iTorch",
   "language": "lua",
   "name": "itorch"
  },
  "language_info": {
   "name": "lua",
   "version": "20100"
  }
 },
 "nbformat": 4,
 "nbformat_minor": 0
}

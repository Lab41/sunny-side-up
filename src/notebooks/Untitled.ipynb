{
 "cells": [
  {
   "cell_type": "code",
   "execution_count": 1,
   "metadata": {
    "collapsed": false
   },
   "outputs": [
    {
     "name": "stdout",
     "output_type": "stream",
     "text": [
      "total 24\r\n",
      "drwxr-xr-x 3 root root 4096 Sep 17 00:07 .\r\n",
      "drwxr-xr-x 5 root root 4096 Sep 16 23:04 ..\r\n",
      "drwxr-xr-x 2 root root 4096 Sep 17 00:07 .ipynb_checkpoints\r\n",
      "-rw-r--r-- 1 root root   72 Sep 17 00:07 Untitled.ipynb\r\n",
      "-rw-r--r-- 1 root root 1522 Sep 16 23:42 test11.ipynb\r\n",
      "-rw-r--r-- 1 root root 2337 Sep 16 23:52 test2.ipynb\r\n",
      "-rw-r--r-- 1 root root    0 Sep 17 00:07 untitled.txt\r\n"
     ]
    }
   ],
   "source": [
    "!ls -al"
   ]
  },
  {
   "cell_type": "code",
   "execution_count": 1,
   "metadata": {
    "collapsed": false
   },
   "outputs": [
    {
     "name": "stdout",
     "output_type": "stream",
     "text": [
      "/data/sunny-side-up/src/notebooks\r\n"
     ]
    }
   ],
   "source": [
    "!pwd"
   ]
  },
  {
   "cell_type": "code",
   "execution_count": 1,
   "metadata": {
    "collapsed": false
   },
   "outputs": [
    {
     "name": "stdout",
     "output_type": "stream",
     "text": [
      "Untitled.ipynb\ttest11.ipynb  test2.ipynb  untitled.txt\r\n"
     ]
    }
   ],
   "source": [
    "!ls"
   ]
  },
  {
   "cell_type": "code",
   "execution_count": 1,
   "metadata": {
    "collapsed": false
   },
   "outputs": [
    {
     "name": "stdout",
     "output_type": "stream",
     "text": [
      "/data/sunny-side-up/src/notebooks\r\n"
     ]
    }
   ],
   "source": [
    "!pwd"
   ]
  },
  {
   "cell_type": "code",
   "execution_count": 2,
   "metadata": {
    "collapsed": false
   },
   "outputs": [
    {
     "name": "stdout",
     "output_type": "stream",
     "text": [
      "total 24\r\n",
      "drwxr-xr-x 3 root root 4096 Sep 17 16:07 .\r\n",
      "drwxr-xr-x 5 root root 4096 Sep 16 23:04 ..\r\n",
      "drwxr-xr-x 2 root root 4096 Sep 17 00:07 .ipynb_checkpoints\r\n",
      "-rw-r--r-- 1 root root 2213 Sep 17 16:07 Untitled.ipynb\r\n",
      "-rw-r--r-- 1 root root 1522 Sep 16 23:42 test11.ipynb\r\n",
      "-rw-r--r-- 1 root root 2337 Sep 16 23:52 test2.ipynb\r\n",
      "-rw-r--r-- 1 root root    0 Sep 17 00:07 untitled.txt\r\n"
     ]
    }
   ],
   "source": [
    "!ls -al"
   ]
  }
 ],
 "metadata": {
  "kernelspec": {
   "display_name": "Python 2",
   "language": "python",
   "name": "python2"
  },
  "language_info": {
   "codemirror_mode": {
    "name": "ipython",
    "version": 2
   },
   "file_extension": ".py",
   "mimetype": "text/x-python",
   "name": "python",
   "nbconvert_exporter": "python",
   "pygments_lexer": "ipython2",
   "version": "2.7.6"
  }
 },
 "nbformat": 4,
 "nbformat_minor": 0
}

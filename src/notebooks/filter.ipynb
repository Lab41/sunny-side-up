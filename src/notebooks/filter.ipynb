Stripping output
Stripped = {u'nbformat_minor': 0, u'cells': [{u'execution_count': 0, u'cell_type': u'code', u'source': u'!ls -al', u'outputs': [], u'metadata': {u'collapsed': False}}, {u'execution_count': 0, u'cell_type': u'code', u'source': u'!pwd', u'outputs': [], u'metadata': {u'collapsed': False}}, {u'execution_count': 0, u'cell_type': u'code', u'source': u'!ls', u'outputs': [], u'metadata': {u'collapsed': False}}, {u'execution_count': 0, u'cell_type': u'code', u'source': u'!pwd', u'outputs': [], u'metadata': {u'collapsed': False}}, {u'execution_count': 0, u'cell_type': u'code', u'source': u'!ls -al', u'outputs': [], u'metadata': {u'collapsed': False}}], u'nbformat': 4, u'metadata': {u'kernelspec': {u'display_name': u'Python 2', u'name': u'python2', u'language': u'python'}, u'language_info': {u'mimetype': u'text/x-python', u'nbconvert_exporter': u'python', u'version': u'2.7.6', u'name': u'python', u'file_extension': u'.py', u'pygments_lexer': u'ipython2', u'codemirror_mode': {u'version': 2, u'name': u'ipython'}}}}
{
 "cells": [
  {
   "cell_type": "code",
   "execution_count": 0,
   "metadata": {
    "collapsed": false
   },
   "outputs": [],
   "source": [
    "!ls -al"
   ]
  },
  {
   "cell_type": "code",
   "execution_count": 0,
   "metadata": {
    "collapsed": false
   },
   "outputs": [],
   "source": [
    "!pwd"
   ]
  },
  {
   "cell_type": "code",
   "execution_count": 0,
   "metadata": {
    "collapsed": false
   },
   "outputs": [],
   "source": [
    "!ls"
   ]
  },
  {
   "cell_type": "code",
   "execution_count": 0,
   "metadata": {
    "collapsed": false
   },
   "outputs": [],
   "source": [
    "!pwd"
   ]
  },
  {
   "cell_type": "code",
   "execution_count": 0,
   "metadata": {
    "collapsed": false
   },
   "outputs": [],
   "source": [
    "!ls -al"
   ]
  }
 ],
 "metadata": {
  "kernelspec": {
   "display_name": "Python 2",
   "language": "python",
   "name": "python2"
  },
  "language_info": {
   "codemirror_mode": {
    "name": "ipython",
    "version": 2
   },
   "file_extension": ".py",
   "mimetype": "text/x-python",
   "name": "python",
   "nbconvert_exporter": "python",
   "pygments_lexer": "ipython2",
   "version": "2.7.6"
  }
 },
 "nbformat": 4,
 "nbformat_minor": 0
}